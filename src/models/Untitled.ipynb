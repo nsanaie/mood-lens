{
 "cells": [
  {
   "cell_type": "code",
   "execution_count": 18,
   "id": "9a81d032-9820-4b7a-918c-db42e2e3a20c",
   "metadata": {},
   "outputs": [],
   "source": [
    "import pandas as pd\n",
    "\n",
    "path=\"data/train_binary_sent.csv\"\n",
    "\n",
    "df = pd.read_csv(path)\n",
    "column_names = list(df.columns.values)\n",
    "text = df.loc[1, 'sentence']"
   ]
  },
  {
   "cell_type": "code",
   "execution_count": null,
   "id": "4caf4ace-5df6-4bab-b0a1-c09b342559e6",
   "metadata": {},
   "outputs": [],
   "source": []
  }
 ],
 "metadata": {
  "kernelspec": {
   "display_name": "Python 3 (ipykernel)",
   "language": "python",
   "name": "python3"
  },
  "language_info": {
   "codemirror_mode": {
    "name": "ipython",
    "version": 3
   },
   "file_extension": ".py",
   "mimetype": "text/x-python",
   "name": "python",
   "nbconvert_exporter": "python",
   "pygments_lexer": "ipython3",
   "version": "3.9.1"
  }
 },
 "nbformat": 4,
 "nbformat_minor": 5
}
