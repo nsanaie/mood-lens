{
 "cells": [
  {
   "cell_type": "code",
   "execution_count": 3,
   "id": "40c31ee7-14e2-47fa-b98c-7841521f8540",
   "metadata": {},
   "outputs": [],
   "source": [
    "import pandas as pd\n",
    "import os\n",
    "inputp = 'data'\n",
    "outputp = 'outputs'\n",
    "\n",
    "if not os.path.exists(inputp):\n",
    "    os.mkdir(inputp)\n",
    "if not os.path.exists(outputp):\n",
    "    os.mkdir(outputp)\n",
    "\n",
    "sst_sentiment = 'data/train_binary_sent.csv'\n",
    "\n",
    "columns = ["
   ]
  },
  {
   "cell_type": "code",
   "execution_count": null,
   "id": "e496d2c4-7e85-4986-9643-237e4b85beb1",
   "metadata": {},
   "outputs": [],
   "source": []
  }
 ],
 "metadata": {
  "kernelspec": {
   "display_name": "Python 3 (ipykernel)",
   "language": "python",
   "name": "python3"
  },
  "language_info": {
   "codemirror_mode": {
    "name": "ipython",
    "version": 3
   },
   "file_extension": ".py",
   "mimetype": "text/x-python",
   "name": "python",
   "nbconvert_exporter": "python",
   "pygments_lexer": "ipython3",
   "version": "3.9.1"
  }
 },
 "nbformat": 4,
 "nbformat_minor": 5
}
